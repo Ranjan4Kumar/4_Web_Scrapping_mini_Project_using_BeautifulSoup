{
  "nbformat": 4,
  "nbformat_minor": 0,
  "metadata": {
    "colab": {
      "provenance": [],
      "authorship_tag": "ABX9TyPxhOO4HqIfom2SROcTcoMp",
      "include_colab_link": true
    },
    "kernelspec": {
      "name": "python3",
      "display_name": "Python 3"
    },
    "language_info": {
      "name": "python"
    }
  },
  "cells": [
    {
      "cell_type": "markdown",
      "metadata": {
        "id": "view-in-github",
        "colab_type": "text"
      },
      "source": [
        "<a href=\"https://colab.research.google.com/github/Ranjan4Kumar/4_Web_Scrapping_mini_Project_using_BeautifulSoup/blob/main/BeautifulSoap.ipynb\" target=\"_parent\"><img src=\"https://colab.research.google.com/assets/colab-badge.svg\" alt=\"Open In Colab\"/></a>"
      ]
    },
    {
      "cell_type": "code",
      "execution_count": 1,
      "metadata": {
        "colab": {
          "base_uri": "https://localhost:8080/"
        },
        "id": "fxA9dpI6Pzpy",
        "outputId": "150367ae-1dc2-4012-a1ac-66b92fd2ea63"
      },
      "outputs": [
        {
          "output_type": "stream",
          "name": "stdout",
          "text": [
            "Looking in indexes: https://pypi.org/simple, https://us-python.pkg.dev/colab-wheels/public/simple/\n",
            "Requirement already satisfied: beautifulsoup4 in /usr/local/lib/python3.10/dist-packages (4.11.2)\n",
            "Requirement already satisfied: soupsieve>1.2 in /usr/local/lib/python3.10/dist-packages (from beautifulsoup4) (2.4.1)\n"
          ]
        }
      ],
      "source": [
        "!pip install beautifulsoup4\n"
      ]
    },
    {
      "cell_type": "code",
      "source": [
        "import requests\n",
        "from bs4 import BeautifulSoup\n",
        "import pandas as pd"
      ],
      "metadata": {
        "id": "P4UpTBNDW1LN"
      },
      "execution_count": 4,
      "outputs": []
    },
    {
      "cell_type": "code",
      "source": [
        "url = \"https://www.imdb.com/chart/top\"\n",
        "response = requests.get(url)\n",
        "soup = BeautifulSoup(response.text, \"html.parser\")\n",
        "\n",
        "movies = []\n",
        "for movie in soup.select(\"td.titleColumn\"):\n",
        "  title = movie.select(\"a\")[0].text\n",
        "  year = movie.select(\"span\")[0].text\n",
        "  #rating = movie.select(\"strong\")[0].text\n",
        "  movies.append((title,year))\n",
        "df = pd.DataFrame(movies, columns=[\"Title\", \"Year\"])\n",
        "print(df)"
      ],
      "metadata": {
        "colab": {
          "base_uri": "https://localhost:8080/"
        },
        "id": "N2vDbvhK1l1L",
        "outputId": "284c5192-699b-4732-a0f1-5ce98c309149"
      },
      "execution_count": 13,
      "outputs": [
        {
          "output_type": "stream",
          "name": "stdout",
          "text": [
            "                        Title    Year\n",
            "0    The Shawshank Redemption  (1994)\n",
            "1               The Godfather  (1972)\n",
            "2             The Dark Knight  (2008)\n",
            "3       The Godfather Part II  (1974)\n",
            "4                12 Angry Men  (1957)\n",
            "..                        ...     ...\n",
            "245             Life of Brian  (1979)\n",
            "246            The Iron Giant  (1999)\n",
            "247                  The Help  (2011)\n",
            "248                   Aladdin  (1992)\n",
            "249        Dances with Wolves  (1990)\n",
            "\n",
            "[250 rows x 2 columns]\n"
          ]
        }
      ]
    },
    {
      "cell_type": "code",
      "source": [],
      "metadata": {
        "colab": {
          "base_uri": "https://localhost:8080/"
        },
        "id": "NXoupzSa4bsS",
        "outputId": "b24333f2-7c46-4a6f-b078-f105ef9acd8a"
      },
      "execution_count": 14,
      "outputs": [
        {
          "output_type": "stream",
          "name": "stdout",
          "text": [
            "Empty DataFrame\n",
            "Columns: [Title, Year, Rating]\n",
            "Index: []\n"
          ]
        }
      ]
    },
    {
      "cell_type": "code",
      "source": [],
      "metadata": {
        "id": "0QFCnRHd4cL0"
      },
      "execution_count": null,
      "outputs": []
    }
  ]
}